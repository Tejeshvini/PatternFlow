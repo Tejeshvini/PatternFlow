{
 "cells": [
  {
   "cell_type": "markdown",
   "metadata": {},
   "source": [
    "Data pre processing (train data jpg to png)"
   ]
  },
  {
   "cell_type": "code",
   "execution_count": 1,
   "metadata": {},
   "outputs": [],
   "source": [
    "import tensorflow as tf"
   ]
  },
  {
   "cell_type": "code",
   "execution_count": 2,
   "metadata": {},
   "outputs": [
    {
     "name": "stdout",
     "output_type": "stream",
     "text": [
      "Requirement already satisfied: pillow in c:\\programdata\\anaconda3\\envs\\tejeshvini_demo2\\lib\\site-packages (8.0.1)\n",
      "Note: you may need to restart the kernel to use updated packages.\n"
     ]
    }
   ],
   "source": [
    "pip install pillow"
   ]
  },
  {
   "cell_type": "code",
   "execution_count": 3,
   "metadata": {},
   "outputs": [],
   "source": [
    "from PIL import Image"
   ]
  },
  {
   "cell_type": "code",
   "execution_count": 4,
   "metadata": {},
   "outputs": [],
   "source": [
    "from matplotlib import image\n",
    "import matplotlib.pyplot as plt\n",
    "import os\n",
    "import numpy as np"
   ]
  },
  {
   "cell_type": "code",
   "execution_count": 5,
   "metadata": {},
   "outputs": [],
   "source": [
    "from tensorflow.keras.layers import Input, Conv2D, Conv2DTranspose, MaxPooling2D, Flatten, Dense,Dropout,UpSampling2D,concatenate, Add\n",
    "from tensorflow.keras.models import Model"
   ]
  },
  {
   "cell_type": "code",
   "execution_count": 6,
   "metadata": {},
   "outputs": [],
   "source": [
    "from tensorflow.keras import datasets, layers, models, utils\n",
    "import matplotlib.pyplot as plt\n",
    "from tensorflow.keras.layers import concatenate"
   ]
  },
  {
   "cell_type": "code",
   "execution_count": 7,
   "metadata": {},
   "outputs": [],
   "source": [
    "from sklearn.datasets import fetch_lfw_people\n",
    "from sklearn.model_selection import train_test_split\n",
    "from sklearn.metrics import classification_report\n",
    "import numpy as np\n",
    "import glob"
   ]
  },
  {
   "cell_type": "code",
   "execution_count": 8,
   "metadata": {},
   "outputs": [],
   "source": [
    "#ls \"ISIC2018_Task1-2_Training_Data/ISIC2018_Task1_Training_GroundTruth_x2\""
   ]
  },
  {
   "cell_type": "code",
   "execution_count": 9,
   "metadata": {},
   "outputs": [],
   "source": [
    "data_folder = \"C:/Users/s4560340/Downloads/ISIC2018_Task1-2_Training_Data/\"\n",
    "\n",
    "inputs = glob.glob(data_folder + \"ISIC2018_Task1-2_Training_Input_x2/*.jpg\")\n",
    "inputs.sort()\n",
    "labels = glob.glob(data_folder + \"ISIC2018_Task1_Training_GroundTruth_x2/*.png\")\n",
    "labels.sort()\n",
    "\n",
    "assert(len(inputs) == len(labels))\n",
    "for i in range(len(inputs)):\n",
    "    x = np.asarray(Image.open(inputs[i]))\n",
    "    y = np.asarray(Image.open(labels[i]))"
   ]
  },
  {
   "cell_type": "code",
   "execution_count": 10,
   "metadata": {},
   "outputs": [],
   "source": [
    "length = len(x)"
   ]
  },
  {
   "cell_type": "code",
   "execution_count": 11,
   "metadata": {},
   "outputs": [
    {
     "name": "stdout",
     "output_type": "stream",
     "text": [
      "2594\n",
      "[[[ 61  57  56]\n",
      "  [ 65  56  59]\n",
      "  [ 67  56  60]\n",
      "  ...\n",
      "  [ 85  85  85]\n",
      "  [ 84  84  84]\n",
      "  [ 84  82  83]]\n",
      "\n",
      " [[ 68  63  60]\n",
      "  [ 65  56  57]\n",
      "  [ 63  52  56]\n",
      "  ...\n",
      "  [ 83  83  83]\n",
      "  [ 84  82  83]\n",
      "  [ 86  82  83]]\n",
      "\n",
      " [[ 65  60  57]\n",
      "  [ 64  55  56]\n",
      "  [ 64  54  55]\n",
      "  ...\n",
      "  [ 82  81  79]\n",
      "  [ 87  86  84]\n",
      "  [ 90  84  84]]\n",
      "\n",
      " ...\n",
      "\n",
      " [[102 101  97]\n",
      "  [107 103 102]\n",
      "  [113 109 110]\n",
      "  ...\n",
      "  [136 105  87]\n",
      "  [141 109  94]\n",
      "  [140 108  95]]\n",
      "\n",
      " [[110 105 101]\n",
      "  [110 104 104]\n",
      "  [112 106 106]\n",
      "  ...\n",
      "  [137 108  92]\n",
      "  [139 110  96]\n",
      "  [136 107  93]]\n",
      "\n",
      " [[105 100  94]\n",
      "  [112 104 101]\n",
      "  [113 103 104]\n",
      "  ...\n",
      "  [138 109  95]\n",
      "  [141 114  97]\n",
      "  [136 109  92]]]\n",
      "2593\n"
     ]
    }
   ],
   "source": [
    "print(len(labels))\n",
    "print(x)\n",
    "print(i)"
   ]
  },
  {
   "cell_type": "code",
   "execution_count": 12,
   "metadata": {},
   "outputs": [
    {
     "ename": "NameError",
     "evalue": "name 'x_' is not defined",
     "output_type": "error",
     "traceback": [
      "\u001b[1;31m---------------------------------------------------------------------------\u001b[0m",
      "\u001b[1;31mNameError\u001b[0m                                 Traceback (most recent call last)",
      "\u001b[1;32m<ipython-input-12-0838af57ca22>\u001b[0m in \u001b[0;36m<module>\u001b[1;34m\u001b[0m\n\u001b[1;32m----> 1\u001b[1;33m \u001b[0mplt\u001b[0m\u001b[1;33m.\u001b[0m\u001b[0mimshow\u001b[0m\u001b[1;33m(\u001b[0m\u001b[0mx_\u001b[0m\u001b[1;33m)\u001b[0m\u001b[1;33m\u001b[0m\u001b[1;33m\u001b[0m\u001b[0m\n\u001b[0m",
      "\u001b[1;31mNameError\u001b[0m: name 'x_' is not defined"
     ]
    }
   ],
   "source": [
    "plt.imshow(x_)"
   ]
  },
  {
   "cell_type": "code",
   "execution_count": 63,
   "metadata": {},
   "outputs": [],
   "source": [
    "a = []\n",
    "b = []\n",
    "for i in range(len(inputs)):\n",
    "    a_ = np.asarray(Image.open(inputs[i]).resize((256,256)))\n",
    "    a.append(a_)\n",
    "    b_ = np.asarray(Image.open(labels[i]).resize((256,256)))\n",
    "    b.append(b_)"
   ]
  },
  {
   "cell_type": "code",
   "execution_count": 64,
   "metadata": {},
   "outputs": [
    {
     "name": "stdout",
     "output_type": "stream",
     "text": [
      "2594\n",
      "2594\n"
     ]
    }
   ],
   "source": [
    "print(len(a))\n",
    "print(len(b))"
   ]
  },
  {
   "cell_type": "code",
   "execution_count": 65,
   "metadata": {},
   "outputs": [
    {
     "data": {
      "text/plain": [
       "<matplotlib.image.AxesImage at 0x1823ee4ecc8>"
      ]
     },
     "execution_count": 65,
     "metadata": {},
     "output_type": "execute_result"
    },
    {
     "data": {
      "image/png": "[encoded data removed]",
      "text/plain": [
       "<Figure size 432x288 with 1 Axes>"
      ]
     },
     "metadata": {
      "needs_background": "light"
     },
     "output_type": "display_data"
    }
   ],
   "source": [
    "plt.imshow(b[45])"
   ]
  },
  {
   "cell_type": "code",
   "execution_count": 66,
   "metadata": {},
   "outputs": [],
   "source": [
    "length = len(a)\n",
    "train_length = np.round(0.6*length)\n",
    "validation_length = np.round(0.15*length)\n",
    "test_length = np.round(0.25*length)"
   ]
  },
  {
   "cell_type": "code",
   "execution_count": 67,
   "metadata": {},
   "outputs": [
    {
     "name": "stdout",
     "output_type": "stream",
     "text": [
      "2594\n",
      "1556.0\n",
      "389.0\n",
      "648.0\n"
     ]
    }
   ],
   "source": [
    "print(length)\n",
    "print(train_length)\n",
    "print(validation_length)\n",
    "print(test_length)"
   ]
  },
  {
   "cell_type": "code",
   "execution_count": 68,
   "metadata": {},
   "outputs": [],
   "source": [
    "train = a[0:int(train_length)]\n",
    "train = np.asarray(train)\n",
    "validation = a[int(train_length+1):int(train_length+validation_length+1)]\n",
    "validation = np.asarray(validation)\n",
    "test = a[int(train_length+validation_length):2593]\n",
    "test = np.asarray(test)"
   ]
  },
  {
   "cell_type": "code",
   "execution_count": 69,
   "metadata": {},
   "outputs": [
    {
     "name": "stdout",
     "output_type": "stream",
     "text": [
      "2594\n",
      "1556\n",
      "389\n",
      "648\n"
     ]
    }
   ],
   "source": [
    "print(length)\n",
    "print(len(train))\n",
    "print(len(validation))\n",
    "print(len(test))"
   ]
  },
  {
   "cell_type": "code",
   "execution_count": 70,
   "metadata": {},
   "outputs": [],
   "source": [
    "train_data = train [:, :, :, np.newaxis]\n",
    "validation_data = validation[:, :, :, np.newaxis]\n",
    "test_data = test[:, :, :, np.newaxis]"
   ]
  },
  {
   "cell_type": "code",
   "execution_count": 71,
   "metadata": {},
   "outputs": [
    {
     "name": "stdout",
     "output_type": "stream",
     "text": [
      "(1556, 256, 256, 3)\n",
      "(389, 256, 256, 3)\n",
      "(648, 256, 256, 3)\n"
     ]
    }
   ],
   "source": [
    "print(train.shape)\n",
    "print(validation.shape)\n",
    "print(test.shape)"
   ]
  },
  {
   "cell_type": "code",
   "execution_count": 72,
   "metadata": {},
   "outputs": [
    {
     "name": "stdout",
     "output_type": "stream",
     "text": [
      "(1556, 256, 256, 1, 3)\n",
      "(389, 256, 256, 1, 3)\n",
      "(648, 256, 256, 1, 3)\n"
     ]
    }
   ],
   "source": [
    "print(train_data.shape)\n",
    "print(validation_data.shape)\n",
    "print(test_data.shape)"
   ]
  },
  {
   "cell_type": "code",
   "execution_count": 73,
   "metadata": {},
   "outputs": [
    {
     "data": {
      "text/plain": [
       "<matplotlib.image.AxesImage at 0x18244b4f388>"
      ]
     },
     "execution_count": 73,
     "metadata": {},
     "output_type": "execute_result"
    },
    {
     "data": {
      "image/png": "[encoded data removed]",
      "text/plain": [
       "<Figure size 432x288 with 1 Axes>"
      ]
     },
     "metadata": {
      "needs_background": "light"
     },
     "output_type": "display_data"
    }
   ],
   "source": [
    "plt.imshow(train[9])"
   ]
  },
  {
   "cell_type": "code",
   "execution_count": 23,
   "metadata": {},
   "outputs": [],
   "source": [
    "label_=[]\n",
    "for file in os.listdir(\"C:/Users/s4560340/Downloads/ISIC2018_Task1-2_Training_Data/ISIC2018_Task1_Training_GroundTruth_x2\"):\n",
    "    #print(file)\n",
    "    if \".png\" in file:\n",
    "        label_.append((image.imread(\"C:/Users/s4560340/Downloads/ISIC2018_Task1-2_Training_Data/ISIC2018_Task1_Training_GroundTruth_x2/\"+file)).resize((600,600)))\n",
    "labels_=np.asarray(label_)"
   ]
  },
  {
   "cell_type": "code",
   "execution_count": 24,
   "metadata": {},
   "outputs": [
    {
     "data": {
      "text/plain": [
       "array([None, None, None, ..., None, None, None], dtype=object)"
      ]
     },
     "execution_count": 24,
     "metadata": {},
     "output_type": "execute_result"
    }
   ],
   "source": [
    "labels_"
   ]
  },
  {
   "cell_type": "code",
   "execution_count": 25,
   "metadata": {},
   "outputs": [],
   "source": [
    "length_lbl = len(labels_)\n",
    "train_length = np.round(0.6*length_lbl)\n",
    "validation_length = np.round(0.15*length_lbl)\n",
    "test_length = np.round(0.25*length_lbl)"
   ]
  },
  {
   "cell_type": "code",
   "execution_count": 26,
   "metadata": {},
   "outputs": [
    {
     "name": "stdout",
     "output_type": "stream",
     "text": [
      "2594\n",
      "1556.0\n",
      "389.0\n",
      "648.0\n"
     ]
    }
   ],
   "source": [
    "print(length)\n",
    "print(train_length)\n",
    "print(validation_length)\n",
    "print(test_length)"
   ]
  },
  {
   "cell_type": "code",
   "execution_count": 74,
   "metadata": {},
   "outputs": [],
   "source": [
    "train_label = b[0:int(train_length)]\n",
    "train_label = np.asarray(train_label)\n",
    "validation_label = b[int(train_length+1):int(train_length+validation_length+1)]\n",
    "validation_label = np.asarray(validation_label)\n",
    "test_label = b[int(train_length+validation_length):2593]\n",
    "test_label = np.asarray(test_label)"
   ]
  },
  {
   "cell_type": "code",
   "execution_count": 75,
   "metadata": {},
   "outputs": [
    {
     "name": "stdout",
     "output_type": "stream",
     "text": [
      "(1556, 256, 256)\n",
      "(389, 256, 256)\n",
      "(648, 256, 256)\n"
     ]
    }
   ],
   "source": [
    "print(train_label.shape)\n",
    "print(validation_label.shape)\n",
    "print(test_label.shape)"
   ]
  },
  {
   "cell_type": "code",
   "execution_count": 76,
   "metadata": {},
   "outputs": [],
   "source": [
    "train_labels = train_label[:, :, :, np.newaxis]\n",
    "validation_labels = validation_label[:, :, :, np.newaxis]\n",
    "test_labels = test_label[:, :, :, np.newaxis]"
   ]
  },
  {
   "cell_type": "code",
   "execution_count": 77,
   "metadata": {},
   "outputs": [
    {
     "name": "stdout",
     "output_type": "stream",
     "text": [
      "(1556, 256, 256, 1)\n",
      "(389, 256, 256, 1)\n",
      "(648, 256, 256, 1)\n"
     ]
    }
   ],
   "source": [
    "print(train_labels.shape)\n",
    "print(validation_labels.shape)\n",
    "print(test_labels.shape)"
   ]
  },
  {
   "cell_type": "code",
   "execution_count": 78,
   "metadata": {},
   "outputs": [
    {
     "name": "stdout",
     "output_type": "stream",
     "text": [
      "(1556, 256, 256, 3)\n",
      "(389, 256, 256, 3)\n",
      "(648, 256, 256, 3)\n"
     ]
    }
   ],
   "source": [
    "print(train.shape)\n",
    "print(validation.shape)\n",
    "print(test.shape)"
   ]
  },
  {
   "cell_type": "code",
   "execution_count": 79,
   "metadata": {},
   "outputs": [
    {
     "data": {
      "text/plain": [
       "<matplotlib.image.AxesImage at 0x1801f057388>"
      ]
     },
     "execution_count": 79,
     "metadata": {},
     "output_type": "execute_result"
    },
    {
     "data": {
      "image/png": "[encoded data removed]",
      "text/plain": [
       "<Figure size 432x288 with 1 Axes>"
      ]
     },
     "metadata": {
      "needs_background": "light"
     },
     "output_type": "display_data"
    }
   ],
   "source": [
    "plt.imshow(train_labels[19])"
   ]
  },
  {
   "cell_type": "code",
   "execution_count": 80,
   "metadata": {},
   "outputs": [
    {
     "data": {
      "text/plain": [
       "<matplotlib.image.AxesImage at 0x1801f0bf2c8>"
      ]
     },
     "execution_count": 80,
     "metadata": {},
     "output_type": "execute_result"
    },
    {
     "data": {
      "image/png": "[encoded data removed]",
      "text/plain": [
       "<Figure size 432x288 with 1 Axes>"
      ]
     },
     "metadata": {
      "needs_background": "light"
     },
     "output_type": "display_data"
    }
   ],
   "source": [
    "plt.imshow(train_labels[89])"
   ]
  },
  {
   "cell_type": "code",
   "execution_count": 81,
   "metadata": {},
   "outputs": [
    {
     "data": {
      "text/plain": [
       "(256, 256, 3)"
      ]
     },
     "execution_count": 81,
     "metadata": {},
     "output_type": "execute_result"
    }
   ],
   "source": [
    "train[89].shape"
   ]
  },
  {
   "cell_type": "code",
   "execution_count": 83,
   "metadata": {},
   "outputs": [],
   "source": [
    "input__ = Input((256,256,3))"
   ]
  },
  {
   "cell_type": "code",
   "execution_count": 84,
   "metadata": {},
   "outputs": [],
   "source": [
    "c1 = Conv2D(16, (3, 3), activation='relu', strides=(1, 1), padding='same')(input__)\n",
    "\n",
    "##first context module\n",
    "context_mod1_layer1 = Conv2D(16, (3, 3), activation='relu', strides=(1, 1), padding='same')(c1)\n",
    "cont_dropoutlayer1 = Dropout(.3, input_shape=(2,))(context_mod1_layer1)\n",
    "context_mod1_layer2 =  Conv2D(16, (3, 3), activation='relu', strides=(1, 1), padding='same')(cont_dropoutlayer1)\n",
    "\n",
    "##element wise add\n",
    "elem_add_1 = Add()([c1, context_mod1_layer2])\n",
    "\n",
    "c2 = Conv2D(32, (3, 3), activation='relu', strides=(2, 2), padding='same')(elem_add_1)\n",
    "\n",
    "##second context module\n",
    "context_mod2_layer1 = Conv2D(32, (3, 3), activation='relu', strides=(1, 1), padding='same')(c2)\n",
    "cont_dropoutlayer2 = Dropout(.3, input_shape=(2,))(context_mod2_layer1)\n",
    "context_mod2_layer2 =  Conv2D(32, (3, 3), activation='relu', strides=(1, 1), padding='same')(cont_dropoutlayer2)\n",
    "\n",
    "##element wise add2\n",
    "elem_add_2 = Add()([c2, context_mod2_layer2])\n",
    "\n",
    "c3 = Conv2D(64, (3, 3), activation='relu', strides=(2, 2), padding='same')(elem_add_2)\n",
    "\n",
    "##third context module\n",
    "context_mod3_layer1 = Conv2D(64, (3, 3), activation='relu', strides=(1, 1), padding='same')(c3)\n",
    "cont_dropoutlayer3 = Dropout(.3, input_shape=(2,))(context_mod3_layer1)\n",
    "context_mod3_layer2 =  Conv2D(64, (3, 3), activation='relu', strides=(1, 1), padding='same')(cont_dropoutlayer3)\n",
    "\n",
    "##element wise add3\n",
    "elem_add_3 = Add()([c3, context_mod3_layer2])\n",
    "\n",
    "c4 = Conv2D(128, (3, 3), activation='relu', strides=(2, 2), padding='same')(elem_add_3)\n",
    "\n",
    "##fourth context module\n",
    "context_mod4_layer1 = Conv2D(128, (3, 3), activation='relu', strides=(1, 1), padding='same')(c4)\n",
    "cont_dropoutlayer4 = Dropout(.3, input_shape=(2,))(context_mod4_layer1)\n",
    "context_mod4_layer2 =  Conv2D(128, (3, 3), activation='relu', strides=(1, 1), padding='same')(cont_dropoutlayer4)\n",
    "\n",
    "##element wise add4\n",
    "elem_add_4 = Add()([c4, context_mod4_layer2])\n"
   ]
  },
  {
   "cell_type": "code",
   "execution_count": 85,
   "metadata": {},
   "outputs": [],
   "source": [
    "c5 = Conv2D(256, (3, 3), activation='relu', strides=(2, 2), padding='same')(elem_add_4)\n",
    "\n",
    "##fifth context module\n",
    "context_mod5_layer1 = Conv2D(256, (3, 3), activation='relu', strides=(1, 1), padding='same')(c5)\n",
    "cont_dropoutlayer5 = Dropout(.3, input_shape=(2,))(context_mod5_layer1)\n",
    "context_mod5_layer2 =  Conv2D(256, (3, 3), activation='relu', strides=(1, 1), padding='same')(cont_dropoutlayer5)\n",
    "\n",
    "##element wise add5\n",
    "elem_add_5 = Add()([c5, context_mod5_layer2])\n",
    "\n",
    "##upsampling 1\n",
    "up_1 = UpSampling2D(size=(2, 2))(elem_add_5)\n",
    "upconv_1 = Conv2D(128, (3, 3), activation='relu', strides=(1, 1), padding='same')(up_1)"
   ]
  },
  {
   "cell_type": "code",
   "execution_count": 86,
   "metadata": {},
   "outputs": [],
   "source": [
    "#concat 1 \n",
    "con1 = concatenate([elem_add_4,upconv_1], axis = 3)\n",
    "\n",
    "##localization module 1\n",
    "loc3x3_1 = Conv2D(128, (3, 3), activation='relu', strides=(1, 1), padding='same')(con1)\n",
    "loc1x1_1 = Conv2D(128, (1 ,1), activation='relu', strides=(1, 1), padding='same')(loc3x3_1)\n",
    "\n",
    "##upsampling 2\n",
    "up_2 = UpSampling2D(size=(2, 2))(loc1x1_1)\n",
    "upconv_2 = Conv2D(64, (3, 3), activation='relu', strides=(1, 1), padding='same')(up_2)\n",
    "\n",
    "#concat 2\n",
    "con2 = concatenate([elem_add_3,upconv_2], axis = 3)\n",
    "\n",
    "##localization module 2\n",
    "loc3x3_2 = Conv2D(64, (3, 3), activation='relu', strides=(1, 1), padding='same')(con2)\n",
    "loc1x1_2 = Conv2D(64, (1 ,1), activation='relu', strides=(1, 1), padding='same')(loc3x3_2)\n",
    "\n",
    "##upsampling 3\n",
    "up_3 = UpSampling2D(size=(2, 2))(loc1x1_2)\n",
    "upconv_3 = Conv2D(32, (3, 3), activation='relu', strides=(1, 1), padding='same')(up_3)\n",
    "\n",
    "#concat 3 \n",
    "con3 = concatenate([elem_add_2,upconv_3], axis = 3)\n",
    "\n",
    "##localization module 3\n",
    "loc3x3_3 = Conv2D(32, (3, 3), activation='relu', strides=(1, 1), padding='same')(con3)\n",
    "loc1x1_3 = Conv2D(32, (1 ,1), activation='relu', strides=(1, 1), padding='same')(loc3x3_3)\n",
    "\n",
    "##upsampling 4\n",
    "up_4 = UpSampling2D(size=(2, 2))(loc1x1_3)\n",
    "upconv_4 = Conv2D(16, (3, 3), activation='relu', strides=(1, 1), padding='same')(up_4)\n",
    "\n",
    "#concat 4\n",
    "con4 = concatenate([elem_add_1,upconv_4], axis = 3)\n",
    "\n",
    "c6 = Conv2D(32, (3, 3), activation='relu', strides=(1, 1), padding='same')(con4)"
   ]
  },
  {
   "cell_type": "code",
   "execution_count": 87,
   "metadata": {},
   "outputs": [],
   "source": [
    "##segmentation layers\n",
    "seg_1 = Conv2D(1, (3, 3), activation='relu', strides=(1, 1), padding='same')(c6)\n",
    "\n",
    "\n",
    "seg_2 = Conv2D(1, (3, 3), activation='relu', strides=(1, 1), padding='same')(loc1x1_3)\n",
    "#up_seg2 = UpSampling2D(size=(2, 2))(seg_2)\n",
    "\n",
    "seg_3 = Conv2D(1, (3, 3), activation='relu', strides=(1, 1), padding='same')(loc1x1_2)\n",
    "up_seg3 = UpSampling2D(size=(2, 2))(seg_3)\n",
    "\n",
    "##element wise add6\n",
    "elem_add_5 = Add()([seg_2, up_seg3])\n",
    "up_add5 = UpSampling2D(size=(2, 2))(elem_add_5)\n",
    "\n",
    "##element wise add7\n",
    "elem_add_6= Add()([up_add5, seg_1])"
   ]
  },
  {
   "cell_type": "code",
   "execution_count": 88,
   "metadata": {},
   "outputs": [],
   "source": [
    "model = Model(input__, elem_add_6)"
   ]
  },
  {
   "cell_type": "code",
   "execution_count": 89,
   "metadata": {},
   "outputs": [
    {
     "name": "stdout",
     "output_type": "stream",
     "text": [
      "Model: \"model_3\"\n",
      "__________________________________________________________________________________________________\n",
      "Layer (type)                    Output Shape         Param #     Connected to                     \n",
      "==================================================================================================\n",
      "input_3 (InputLayer)            [(None, 256, 256, 3) 0                                            \n",
      "__________________________________________________________________________________________________\n",
      "conv2d_86 (Conv2D)              (None, 256, 256, 16) 448         input_3[0][0]                    \n",
      "__________________________________________________________________________________________________\n",
      "conv2d_87 (Conv2D)              (None, 256, 256, 16) 2320        conv2d_86[0][0]                  \n",
      "__________________________________________________________________________________________________\n",
      "dropout_5 (Dropout)             (None, 256, 256, 16) 0           conv2d_87[0][0]                  \n",
      "__________________________________________________________________________________________________\n",
      "conv2d_88 (Conv2D)              (None, 256, 256, 16) 2320        dropout_5[0][0]                  \n",
      "__________________________________________________________________________________________________\n",
      "add_21 (Add)                    (None, 256, 256, 16) 0           conv2d_86[0][0]                  \n",
      "                                                                 conv2d_88[0][0]                  \n",
      "__________________________________________________________________________________________________\n",
      "conv2d_89 (Conv2D)              (None, 128, 128, 32) 4640        add_21[0][0]                     \n",
      "__________________________________________________________________________________________________\n",
      "conv2d_90 (Conv2D)              (None, 128, 128, 32) 9248        conv2d_89[0][0]                  \n",
      "__________________________________________________________________________________________________\n",
      "dropout_6 (Dropout)             (None, 128, 128, 32) 0           conv2d_90[0][0]                  \n",
      "__________________________________________________________________________________________________\n",
      "conv2d_91 (Conv2D)              (None, 128, 128, 32) 9248        dropout_6[0][0]                  \n",
      "__________________________________________________________________________________________________\n",
      "add_22 (Add)                    (None, 128, 128, 32) 0           conv2d_89[0][0]                  \n",
      "                                                                 conv2d_91[0][0]                  \n",
      "__________________________________________________________________________________________________\n",
      "conv2d_92 (Conv2D)              (None, 64, 64, 64)   18496       add_22[0][0]                     \n",
      "__________________________________________________________________________________________________\n",
      "conv2d_93 (Conv2D)              (None, 64, 64, 64)   36928       conv2d_92[0][0]                  \n",
      "__________________________________________________________________________________________________\n",
      "dropout_7 (Dropout)             (None, 64, 64, 64)   0           conv2d_93[0][0]                  \n",
      "__________________________________________________________________________________________________\n",
      "conv2d_94 (Conv2D)              (None, 64, 64, 64)   36928       dropout_7[0][0]                  \n",
      "__________________________________________________________________________________________________\n",
      "add_23 (Add)                    (None, 64, 64, 64)   0           conv2d_92[0][0]                  \n",
      "                                                                 conv2d_94[0][0]                  \n",
      "__________________________________________________________________________________________________\n",
      "conv2d_95 (Conv2D)              (None, 32, 32, 128)  73856       add_23[0][0]                     \n",
      "__________________________________________________________________________________________________\n",
      "conv2d_96 (Conv2D)              (None, 32, 32, 128)  147584      conv2d_95[0][0]                  \n",
      "__________________________________________________________________________________________________\n",
      "dropout_8 (Dropout)             (None, 32, 32, 128)  0           conv2d_96[0][0]                  \n",
      "__________________________________________________________________________________________________\n",
      "conv2d_97 (Conv2D)              (None, 32, 32, 128)  147584      dropout_8[0][0]                  \n",
      "__________________________________________________________________________________________________\n",
      "add_24 (Add)                    (None, 32, 32, 128)  0           conv2d_95[0][0]                  \n",
      "                                                                 conv2d_97[0][0]                  \n",
      "__________________________________________________________________________________________________\n",
      "conv2d_98 (Conv2D)              (None, 16, 16, 256)  295168      add_24[0][0]                     \n",
      "__________________________________________________________________________________________________\n",
      "conv2d_99 (Conv2D)              (None, 16, 16, 256)  590080      conv2d_98[0][0]                  \n",
      "__________________________________________________________________________________________________\n",
      "dropout_9 (Dropout)             (None, 16, 16, 256)  0           conv2d_99[0][0]                  \n",
      "__________________________________________________________________________________________________\n",
      "conv2d_100 (Conv2D)             (None, 16, 16, 256)  590080      dropout_9[0][0]                  \n",
      "__________________________________________________________________________________________________\n",
      "add_25 (Add)                    (None, 16, 16, 256)  0           conv2d_98[0][0]                  \n",
      "                                                                 conv2d_100[0][0]                 \n",
      "__________________________________________________________________________________________________\n",
      "up_sampling2d_20 (UpSampling2D) (None, 32, 32, 256)  0           add_25[0][0]                     \n",
      "__________________________________________________________________________________________________\n",
      "conv2d_101 (Conv2D)             (None, 32, 32, 128)  295040      up_sampling2d_20[0][0]           \n",
      "__________________________________________________________________________________________________\n",
      "concatenate_16 (Concatenate)    (None, 32, 32, 256)  0           add_24[0][0]                     \n",
      "                                                                 conv2d_101[0][0]                 \n",
      "__________________________________________________________________________________________________\n",
      "conv2d_102 (Conv2D)             (None, 32, 32, 128)  295040      concatenate_16[0][0]             \n",
      "__________________________________________________________________________________________________\n",
      "conv2d_103 (Conv2D)             (None, 32, 32, 128)  16512       conv2d_102[0][0]                 \n",
      "__________________________________________________________________________________________________\n",
      "up_sampling2d_21 (UpSampling2D) (None, 64, 64, 128)  0           conv2d_103[0][0]                 \n",
      "__________________________________________________________________________________________________\n",
      "conv2d_104 (Conv2D)             (None, 64, 64, 64)   73792       up_sampling2d_21[0][0]           \n",
      "__________________________________________________________________________________________________\n",
      "concatenate_17 (Concatenate)    (None, 64, 64, 128)  0           add_23[0][0]                     \n",
      "                                                                 conv2d_104[0][0]                 \n",
      "__________________________________________________________________________________________________\n",
      "conv2d_105 (Conv2D)             (None, 64, 64, 64)   73792       concatenate_17[0][0]             \n",
      "__________________________________________________________________________________________________\n",
      "conv2d_106 (Conv2D)             (None, 64, 64, 64)   4160        conv2d_105[0][0]                 \n",
      "__________________________________________________________________________________________________\n",
      "up_sampling2d_22 (UpSampling2D) (None, 128, 128, 64) 0           conv2d_106[0][0]                 \n",
      "__________________________________________________________________________________________________\n",
      "conv2d_107 (Conv2D)             (None, 128, 128, 32) 18464       up_sampling2d_22[0][0]           \n",
      "__________________________________________________________________________________________________\n",
      "concatenate_18 (Concatenate)    (None, 128, 128, 64) 0           add_22[0][0]                     \n",
      "                                                                 conv2d_107[0][0]                 \n",
      "__________________________________________________________________________________________________\n",
      "conv2d_108 (Conv2D)             (None, 128, 128, 32) 18464       concatenate_18[0][0]             \n",
      "__________________________________________________________________________________________________\n",
      "conv2d_109 (Conv2D)             (None, 128, 128, 32) 1056        conv2d_108[0][0]                 \n",
      "__________________________________________________________________________________________________\n",
      "up_sampling2d_23 (UpSampling2D) (None, 256, 256, 32) 0           conv2d_109[0][0]                 \n",
      "__________________________________________________________________________________________________\n",
      "conv2d_114 (Conv2D)             (None, 64, 64, 1)    577         conv2d_106[0][0]                 \n",
      "__________________________________________________________________________________________________\n",
      "conv2d_110 (Conv2D)             (None, 256, 256, 16) 4624        up_sampling2d_23[0][0]           \n",
      "__________________________________________________________________________________________________\n",
      "conv2d_113 (Conv2D)             (None, 128, 128, 1)  289         conv2d_109[0][0]                 \n",
      "__________________________________________________________________________________________________\n",
      "up_sampling2d_24 (UpSampling2D) (None, 128, 128, 1)  0           conv2d_114[0][0]                 \n",
      "__________________________________________________________________________________________________\n",
      "concatenate_19 (Concatenate)    (None, 256, 256, 32) 0           add_21[0][0]                     \n",
      "                                                                 conv2d_110[0][0]                 \n",
      "__________________________________________________________________________________________________\n",
      "add_26 (Add)                    (None, 128, 128, 1)  0           conv2d_113[0][0]                 \n",
      "                                                                 up_sampling2d_24[0][0]           \n",
      "__________________________________________________________________________________________________\n",
      "conv2d_111 (Conv2D)             (None, 256, 256, 32) 9248        concatenate_19[0][0]             \n",
      "__________________________________________________________________________________________________\n",
      "up_sampling2d_25 (UpSampling2D) (None, 256, 256, 1)  0           add_26[0][0]                     \n",
      "__________________________________________________________________________________________________\n",
      "conv2d_112 (Conv2D)             (None, 256, 256, 1)  289         conv2d_111[0][0]                 \n",
      "__________________________________________________________________________________________________\n",
      "add_27 (Add)                    (None, 256, 256, 1)  0           up_sampling2d_25[0][0]           \n",
      "                                                                 conv2d_112[0][0]                 \n",
      "==================================================================================================\n",
      "Total params: 2,776,275\n",
      "Trainable params: 2,776,275\n",
      "Non-trainable params: 0\n",
      "__________________________________________________________________________________________________\n"
     ]
    }
   ],
   "source": [
    "model.summary()"
   ]
  },
  {
   "cell_type": "code",
   "execution_count": 90,
   "metadata": {},
   "outputs": [],
   "source": [
    "model.compile(optimizer='adam', loss='sparse_categorical_crossentropy', metrics=['accuracy'])"
   ]
  },
  {
   "cell_type": "code",
   "execution_count": null,
   "metadata": {},
   "outputs": [
    {
     "name": "stdout",
     "output_type": "stream",
     "text": [
      "Train on 1556 samples, validate on 389 samples\n",
      "Epoch 1/50\n",
      "1556/1556 [==============================] - 19s 13ms/sample - loss: nan - accuracy: 0.7518 - val_loss: nan - val_accuracy: 0.8856\n",
      "Epoch 2/50\n",
      "1556/1556 [==============================] - 13s 8ms/sample - loss: nan - accuracy: 0.7682 - val_loss: nan - val_accuracy: 0.8856\n",
      "Epoch 3/50\n",
      "1556/1556 [==============================] - 13s 8ms/sample - loss: nan - accuracy: 0.7682 - val_loss: nan - val_accuracy: 0.8856\n",
      "Epoch 4/50\n",
      "1556/1556 [==============================] - 13s 8ms/sample - loss: nan - accuracy: 0.7682 - val_loss: nan - val_accuracy: 0.8856\n",
      "Epoch 5/50\n",
      " 480/1556 [========>.....................] - ETA: 8s - loss: nan - accuracy: 0.7662"
     ]
    }
   ],
   "source": [
    "history = model.fit(train,train_labels,\n",
    "                epochs=50,\n",
    "                batch_size=32,\n",
    "                shuffle=True,\n",
    "                validation_data=(validation, validation_labels))"
   ]
  },
  {
   "cell_type": "code",
   "execution_count": 29,
   "metadata": {},
   "outputs": [
    {
     "name": "stdout",
     "output_type": "stream",
     "text": [
      "1120/1120 - 2s - loss: 0.0137 - accuracy: 0.9948\n"
     ]
    },
    {
     "data": {
      "image/png": "[encoded data removed]",
      "text/plain": [
       "<Figure size 432x288 with 1 Axes>"
      ]
     },
     "metadata": {
      "needs_background": "light"
     },
     "output_type": "display_data"
    }
   ],
   "source": [
    "plt.plot(history.history['accuracy'], label='accuracy')\n",
    "plt.plot(history.history['val_accuracy'], label = 'val_accuracy')\n",
    "plt.xlabel('Epoch')\n",
    "plt.ylabel('Accuracy')\n",
    "plt.ylim([0.9, 1])\n",
    "plt.legend(loc='lower right')\n",
    "\n",
    "test_loss, test_acc = model.evaluate(validation_data,  validation_labels, verbose=2)"
   ]
  },
  {
   "cell_type": "code",
   "execution_count": 30,
   "metadata": {},
   "outputs": [],
   "source": [
    "prediction = model.predict(test_data)"
   ]
  },
  {
   "cell_type": "code",
   "execution_count": 31,
   "metadata": {},
   "outputs": [
    {
     "data": {
      "text/plain": [
       "array([[[[9.99749124e-01, 1.67626931e-04, 5.18393463e-05,\n",
       "          3.13906821e-05],\n",
       "         [9.99957800e-01, 4.22252997e-05, 3.62911567e-09,\n",
       "          1.42537904e-09],\n",
       "         [9.99958873e-01, 4.11550609e-05, 9.34990280e-11,\n",
       "          3.46028553e-11],\n",
       "         ...,\n",
       "         [9.99999166e-01, 8.89849332e-07, 1.62005268e-16,\n",
       "          6.54967565e-17],\n",
       "         [9.99961257e-01, 3.87272266e-05, 1.43778506e-14,\n",
       "          2.67131279e-15],\n",
       "         [9.99639511e-01, 3.60470236e-04, 3.95116189e-08,\n",
       "          2.39989060e-08]],\n",
       "\n",
       "        [[9.99998927e-01, 8.46101841e-07, 6.92415014e-08,\n",
       "          1.13791565e-07],\n",
       "         [1.00000000e+00, 2.23375572e-11, 3.87392043e-15,\n",
       "          5.84716415e-15],\n",
       "         [1.00000000e+00, 6.07106310e-11, 5.61194996e-17,\n",
       "          6.72431531e-17],\n",
       "         ...,\n",
       "         [1.00000000e+00, 1.35944305e-12, 2.68665638e-28,\n",
       "          7.08677268e-28],\n",
       "         [1.00000000e+00, 5.12970178e-12, 1.10579303e-23,\n",
       "          8.04970392e-24],\n",
       "         [1.00000000e+00, 1.78608541e-08, 1.31662758e-12,\n",
       "          6.95055428e-12]],\n",
       "\n",
       "        [[9.99997497e-01, 2.44397165e-06, 6.16889384e-09,\n",
       "          7.96106381e-09],\n",
       "         [1.00000000e+00, 2.89941769e-12, 5.17966272e-17,\n",
       "          1.26686946e-16],\n",
       "         [1.00000000e+00, 4.17814915e-12, 1.07109865e-20,\n",
       "          9.80509848e-21],\n",
       "         ...,\n",
       "         [1.00000000e+00, 2.76083698e-14, 9.09662328e-33,\n",
       "          4.30520949e-33],\n",
       "         [1.00000000e+00, 2.33443282e-11, 1.69496472e-27,\n",
       "          6.08643397e-27],\n",
       "         [1.00000000e+00, 1.04141451e-09, 1.18291827e-14,\n",
       "          5.22068384e-14]],\n",
       "\n",
       "        ...,\n",
       "\n",
       "        [[9.99995589e-01, 4.40902750e-06, 2.81543604e-12,\n",
       "          4.14740377e-12],\n",
       "         [9.99999881e-01, 8.02337325e-08, 2.28554527e-19,\n",
       "          2.67280693e-19],\n",
       "         [1.00000000e+00, 2.71366929e-09, 5.35005860e-25,\n",
       "          2.46092703e-25],\n",
       "         ...,\n",
       "         [1.00000000e+00, 4.52484794e-12, 3.05648954e-16,\n",
       "          1.54392232e-15],\n",
       "         [1.00000000e+00, 5.15808819e-11, 3.03849692e-14,\n",
       "          8.47825838e-14],\n",
       "         [9.99999642e-01, 2.43132206e-07, 3.75014260e-08,\n",
       "          1.55895890e-07]],\n",
       "\n",
       "        [[9.99965429e-01, 3.46010747e-05, 5.80397730e-10,\n",
       "          9.51918988e-10],\n",
       "         [1.00000000e+00, 1.79866273e-08, 5.62344200e-15,\n",
       "          9.43698465e-15],\n",
       "         [1.00000000e+00, 6.80014933e-11, 3.49650563e-19,\n",
       "          1.22087536e-18],\n",
       "         ...,\n",
       "         [1.00000000e+00, 6.78115231e-10, 3.62524193e-13,\n",
       "          3.11661330e-12],\n",
       "         [1.00000000e+00, 7.04698022e-10, 7.22267862e-12,\n",
       "          2.64559173e-11],\n",
       "         [9.99996185e-01, 1.06151379e-06, 4.48238723e-07,\n",
       "          2.29101852e-06]],\n",
       "\n",
       "        [[9.99563396e-01, 4.25302016e-04, 4.15382328e-06,\n",
       "          7.15324677e-06],\n",
       "         [9.99995828e-01, 4.19660091e-06, 3.08087134e-09,\n",
       "          8.50514770e-09],\n",
       "         [9.99999881e-01, 1.54995490e-07, 2.10928167e-11,\n",
       "          4.97961360e-11],\n",
       "         ...,\n",
       "         [9.99997139e-01, 2.40089116e-06, 6.96476121e-08,\n",
       "          4.07409260e-07],\n",
       "         [9.99998569e-01, 5.23438473e-07, 1.87367860e-07,\n",
       "          6.60368812e-07],\n",
       "         [9.99489546e-01, 1.08592096e-04, 9.98198739e-05,\n",
       "          3.01999331e-04]]],\n",
       "\n",
       "\n",
       "       [[[9.99749243e-01, 1.67562874e-04, 5.18362831e-05,\n",
       "          3.13904748e-05],\n",
       "         [9.99957800e-01, 4.22189769e-05, 3.62777319e-09,\n",
       "          1.42487333e-09],\n",
       "         [9.99958873e-01, 4.11514084e-05, 9.34619326e-11,\n",
       "          3.45893938e-11],\n",
       "         ...,\n",
       "         [9.99999166e-01, 8.89890032e-07, 1.62029382e-16,\n",
       "          6.55065040e-17],\n",
       "         [9.99961257e-01, 3.87283726e-05, 1.43789467e-14,\n",
       "          2.67150634e-15],\n",
       "         [9.99639511e-01, 3.60479375e-04, 3.95133526e-08,\n",
       "          2.40000038e-08]],\n",
       "\n",
       "        [[9.99998927e-01, 8.45656530e-07, 6.92187854e-08,\n",
       "          1.13755533e-07],\n",
       "         [1.00000000e+00, 2.23277594e-11, 3.87067079e-15,\n",
       "          5.84212600e-15],\n",
       "         [1.00000000e+00, 6.06996259e-11, 5.60707091e-17,\n",
       "          6.71841851e-17],\n",
       "         ...,\n",
       "         [1.00000000e+00, 1.35951818e-12, 2.68716892e-28,\n",
       "          7.08807027e-28],\n",
       "         [1.00000000e+00, 5.12982929e-12, 1.10593653e-23,\n",
       "          8.05071760e-24],\n",
       "         [1.00000000e+00, 1.78614332e-08, 1.31670293e-12,\n",
       "          6.95087260e-12]],\n",
       "\n",
       "        [[9.99997616e-01, 2.44339867e-06, 6.16588336e-09,\n",
       "          7.95734501e-09],\n",
       "         [1.00000000e+00, 2.89764285e-12, 5.17371893e-17,\n",
       "          1.26543017e-16],\n",
       "         [1.00000000e+00, 4.17676267e-12, 1.06913918e-20,\n",
       "          9.78626477e-21],\n",
       "         ...,\n",
       "         [1.00000000e+00, 2.76105822e-14, 9.09974715e-33,\n",
       "          4.30685224e-33],\n",
       "         [1.00000000e+00, 2.33443282e-11, 1.69528154e-27,\n",
       "          6.08752482e-27],\n",
       "         [1.00000000e+00, 1.04141451e-09, 1.18299501e-14,\n",
       "          5.22102232e-14]],\n",
       "\n",
       "        ...,\n",
       "\n",
       "        [[9.99995589e-01, 4.41067641e-06, 2.81745590e-12,\n",
       "          4.15036321e-12],\n",
       "         [9.99999881e-01, 8.02750719e-08, 2.28842412e-19,\n",
       "          2.67605129e-19],\n",
       "         [1.00000000e+00, 2.71494782e-09, 5.36064068e-25,\n",
       "          2.46587910e-25],\n",
       "         ...,\n",
       "         [1.00000000e+00, 4.52487397e-12, 3.05601176e-16,\n",
       "          1.54373978e-15],\n",
       "         [1.00000000e+00, 5.15789113e-11, 3.03820113e-14,\n",
       "          8.47741744e-14],\n",
       "         [9.99999642e-01, 2.43124106e-07, 3.74995643e-08,\n",
       "          1.55888458e-07]],\n",
       "\n",
       "        [[9.99965429e-01, 3.46096567e-05, 5.80593629e-10,\n",
       "          9.52115053e-10],\n",
       "         [1.00000000e+00, 1.79969906e-08, 5.62636045e-15,\n",
       "          9.44141294e-15],\n",
       "         [1.00000000e+00, 6.80549506e-11, 3.49948141e-19,\n",
       "          1.22183510e-18],\n",
       "         ...,\n",
       "         [1.00000000e+00, 6.78168244e-10, 3.62481312e-13,\n",
       "          3.11629238e-12],\n",
       "         [1.00000000e+00, 7.04675152e-10, 7.22218249e-12,\n",
       "          2.64542034e-11],\n",
       "         [9.99996185e-01, 1.06149855e-06, 4.48226700e-07,\n",
       "          2.29095076e-06]],\n",
       "\n",
       "        [[9.99563277e-01, 4.25339298e-04, 4.15363638e-06,\n",
       "          7.15276883e-06],\n",
       "         [9.99995828e-01, 4.19813432e-06, 3.08093018e-09,\n",
       "          8.50448156e-09],\n",
       "         [9.99999881e-01, 1.55020331e-07, 2.10953911e-11,\n",
       "          4.98014581e-11],\n",
       "         ...,\n",
       "         [9.99997139e-01, 2.40093004e-06, 6.96457505e-08,\n",
       "          4.07405366e-07],\n",
       "         [9.99998569e-01, 5.23438473e-07, 1.87364108e-07,\n",
       "          6.60354317e-07],\n",
       "         [9.99489546e-01, 1.08591274e-04, 9.98183459e-05,\n",
       "          3.01994151e-04]]],\n",
       "\n",
       "\n",
       "       [[[9.99749124e-01, 1.67685779e-04, 5.18427551e-05,\n",
       "          3.13918172e-05],\n",
       "         [9.99957800e-01, 4.22327539e-05, 3.63021635e-09,\n",
       "          1.42580325e-09],\n",
       "         [9.99958873e-01, 4.11552573e-05, 9.35129335e-11,\n",
       "          3.46090621e-11],\n",
       "         ...,\n",
       "         [9.99999166e-01, 8.89377588e-07, 1.61677454e-16,\n",
       "          6.53587364e-17],\n",
       "         [9.99961257e-01, 3.87050022e-05, 1.43506456e-14,\n",
       "          2.66597839e-15],\n",
       "         [9.99639750e-01, 3.60257080e-04, 3.94723116e-08,\n",
       "          2.39743425e-08]],\n",
       "\n",
       "        [[9.99998927e-01, 8.46570003e-07, 6.92614464e-08,\n",
       "          1.13823148e-07],\n",
       "         [1.00000000e+00, 2.23499153e-11, 3.87594611e-15,\n",
       "          5.84988651e-15],\n",
       "         [1.00000000e+00, 6.07240647e-11, 5.61351300e-17,\n",
       "          6.72613709e-17],\n",
       "         ...,\n",
       "         [1.00000000e+00, 1.35838552e-12, 2.67773427e-28,\n",
       "          7.06388541e-28],\n",
       "         [1.00000000e+00, 5.12577003e-12, 1.10283157e-23,\n",
       "          8.02774755e-24],\n",
       "         [1.00000000e+00, 1.78484587e-08, 1.31471038e-12,\n",
       "          6.94063166e-12]],\n",
       "\n",
       "        [[9.99997497e-01, 2.44484363e-06, 6.17124796e-09,\n",
       "          7.96410138e-09],\n",
       "         [1.00000000e+00, 2.90128208e-12, 5.18373510e-17,\n",
       "          1.26775408e-16],\n",
       "         [1.00000000e+00, 4.17974336e-12, 1.07214110e-20,\n",
       "          9.81527749e-21],\n",
       "         ...,\n",
       "         [1.00000000e+00, 2.75901569e-14, 9.06254129e-33,\n",
       "          4.28816335e-33],\n",
       "         [1.00000000e+00, 2.33406332e-11, 1.68961950e-27,\n",
       "          6.06723977e-27],\n",
       "         [1.00000000e+00, 1.04080689e-09, 1.18097950e-14,\n",
       "          5.21209764e-14]],\n",
       "\n",
       "        ...,\n",
       "\n",
       "        [[9.99995589e-01, 4.45325077e-06, 2.86788432e-12,\n",
       "          4.22413276e-12],\n",
       "         [9.99999881e-01, 8.15767081e-08, 2.36185010e-19,\n",
       "          2.75778759e-19],\n",
       "         [1.00000000e+00, 2.74656853e-09, 5.57178226e-25,\n",
       "          2.56497951e-25],\n",
       "         ...,\n",
       "         [1.00000000e+00, 4.52286342e-12, 3.05904414e-16,\n",
       "          1.54474119e-15],\n",
       "         [1.00000000e+00, 5.15848128e-11, 3.04009103e-14,\n",
       "          8.48280322e-14],\n",
       "         [9.99999642e-01, 2.43165147e-07, 3.75121552e-08,\n",
       "          1.55938864e-07]],\n",
       "\n",
       "        [[9.99965191e-01, 3.48279136e-05, 5.87511373e-10,\n",
       "          9.61700275e-10],\n",
       "         [1.00000000e+00, 1.82496755e-08, 5.72805819e-15,\n",
       "          9.60510544e-15],\n",
       "         [1.00000000e+00, 6.90706520e-11, 3.56998667e-19,\n",
       "          1.24421437e-18],\n",
       "         ...,\n",
       "         [1.00000000e+00, 6.77497225e-10, 3.62784970e-13,\n",
       "          3.11852215e-12],\n",
       "         [1.00000000e+00, 7.04762526e-10, 7.22514453e-12,\n",
       "          2.64640948e-11],\n",
       "         [9.99996185e-01, 1.06150867e-06, 4.48280616e-07,\n",
       "          2.29135708e-06]],\n",
       "\n",
       "        [[9.99561608e-01, 4.27021034e-04, 4.16809326e-06,\n",
       "          7.17345574e-06],\n",
       "         [9.99995708e-01, 4.24085283e-06, 3.10176707e-09,\n",
       "          8.54500026e-09],\n",
       "         [9.99999881e-01, 1.55718666e-07, 2.12421990e-11,\n",
       "          5.01086464e-11],\n",
       "         ...,\n",
       "         [9.99997139e-01, 2.40053623e-06, 6.96589026e-08,\n",
       "          4.07415058e-07],\n",
       "         [9.99998569e-01, 5.23423012e-07, 1.87395926e-07,\n",
       "          6.60482783e-07],\n",
       "         [9.99489546e-01, 1.08593238e-04, 9.98290998e-05,\n",
       "          3.02032742e-04]]],\n",
       "\n",
       "\n",
       "       ...,\n",
       "\n",
       "\n",
       "       [[[9.99753296e-01, 1.64071884e-04, 5.13927480e-05,\n",
       "          3.12024822e-05],\n",
       "         [9.99958158e-01, 4.18014497e-05, 3.52832585e-09,\n",
       "          1.38583245e-09],\n",
       "         [9.99959350e-01, 4.06586187e-05, 8.99456412e-11,\n",
       "          3.33210196e-11],\n",
       "         ...,\n",
       "         [9.99998927e-01, 1.06628636e-06, 2.24819882e-16,\n",
       "          9.06834598e-17],\n",
       "         [9.99957323e-01, 4.26444567e-05, 1.91838800e-14,\n",
       "          3.61248668e-15],\n",
       "         [9.99607623e-01, 3.92379996e-04, 4.59803537e-08,\n",
       "          2.80414714e-08]],\n",
       "\n",
       "        [[9.99998927e-01, 8.25793620e-07, 6.76313263e-08,\n",
       "          1.11193430e-07],\n",
       "         [1.00000000e+00, 2.18474284e-11, 3.65006995e-15,\n",
       "          5.49214850e-15],\n",
       "         [1.00000000e+00, 6.00088174e-11, 5.22947620e-17,\n",
       "          6.26053499e-17],\n",
       "         ...,\n",
       "         [1.00000000e+00, 1.58245639e-12, 4.76493605e-28,\n",
       "          1.23049686e-27],\n",
       "         [1.00000000e+00, 5.86001300e-12, 1.70264077e-23,\n",
       "          1.24426344e-23],\n",
       "         [1.00000000e+00, 1.99222967e-08, 1.64030497e-12,\n",
       "          8.58722642e-12]],\n",
       "\n",
       "        [[9.99997616e-01, 2.42973783e-06, 5.97957728e-09,\n",
       "          7.72469821e-09],\n",
       "         [1.00000000e+00, 2.82443058e-12, 4.80643982e-17,\n",
       "          1.17148839e-16],\n",
       "         [1.00000000e+00, 4.11684185e-12, 9.33106906e-21,\n",
       "          8.50073563e-21],\n",
       "         ...,\n",
       "         [1.00000000e+00, 3.17377892e-14, 1.75961131e-32,\n",
       "          8.50697694e-33],\n",
       "         [1.00000000e+00, 2.44964882e-11, 2.75172402e-27,\n",
       "          9.80652713e-27],\n",
       "         [1.00000000e+00, 1.13868104e-09, 1.50317262e-14,\n",
       "          6.63543452e-14]],\n",
       "\n",
       "        ...,\n",
       "\n",
       "        [[9.99996543e-01, 3.47005448e-06, 1.43898402e-12,\n",
       "          2.15255786e-12],\n",
       "         [9.99999881e-01, 7.00975917e-08, 8.44878723e-20,\n",
       "          9.77440427e-20],\n",
       "         [1.00000000e+00, 2.39417886e-09, 1.34390110e-25,\n",
       "          6.04379558e-26],\n",
       "         ...,\n",
       "         [1.00000000e+00, 2.87432036e-12, 1.06455888e-16,\n",
       "          5.60023350e-16],\n",
       "         [1.00000000e+00, 3.18052876e-11, 1.29480040e-14,\n",
       "          3.62905168e-14],\n",
       "         [9.99999762e-01, 1.74981707e-07, 2.42005083e-08,\n",
       "          1.02370649e-07]],\n",
       "\n",
       "        [[9.99972105e-01, 2.78724347e-05, 3.44965723e-10,\n",
       "          5.44941536e-10],\n",
       "         [1.00000000e+00, 1.49167576e-08, 2.73823263e-15,\n",
       "          4.71864267e-15],\n",
       "         [1.00000000e+00, 5.38373374e-11, 1.33572776e-19,\n",
       "          4.69905434e-19],\n",
       "         ...,\n",
       "         [1.00000000e+00, 5.76898085e-10, 1.72210540e-13,\n",
       "          1.56110238e-12],\n",
       "         [1.00000000e+00, 5.00107122e-10, 3.93182622e-12,\n",
       "          1.49469534e-11],\n",
       "         [9.99997139e-01, 8.38071230e-07, 3.26306207e-07,\n",
       "          1.68628765e-06]],\n",
       "\n",
       "        [[9.99620080e-01, 3.71475588e-04, 3.05301683e-06,\n",
       "          5.34735318e-06],\n",
       "         [9.99995828e-01, 4.11326209e-06, 2.03123851e-09,\n",
       "          5.49492940e-09],\n",
       "         [9.99999881e-01, 1.32162256e-07, 1.21555856e-11,\n",
       "          2.85243738e-11],\n",
       "         ...,\n",
       "         [9.99997497e-01, 2.10855796e-06, 5.16452161e-08,\n",
       "          3.16909109e-07],\n",
       "         [9.99998927e-01, 4.31560068e-07, 1.39075738e-07,\n",
       "          4.95063603e-07],\n",
       "         [9.99557078e-01, 9.57683078e-05, 8.57729974e-05,\n",
       "          2.61349138e-04]]],\n",
       "\n",
       "\n",
       "       [[[9.99752939e-01, 1.64358426e-04, 5.15100000e-05,\n",
       "          3.12741759e-05],\n",
       "         [9.99958158e-01, 4.18570198e-05, 3.54390584e-09,\n",
       "          1.39235001e-09],\n",
       "         [9.99959230e-01, 4.07571024e-05, 9.05289316e-11,\n",
       "          3.35401706e-11],\n",
       "         ...,\n",
       "         [9.99998927e-01, 1.06104403e-06, 2.22585833e-16,\n",
       "          8.97788948e-17],\n",
       "         [9.99957442e-01, 4.25133439e-05, 1.89849543e-14,\n",
       "          3.57283918e-15],\n",
       "         [9.99608815e-01, 3.91186681e-04, 4.57284415e-08,\n",
       "          2.78828924e-08]],\n",
       "\n",
       "        [[9.99998927e-01, 8.27421502e-07, 6.78916336e-08,\n",
       "          1.11623514e-07],\n",
       "         [1.00000000e+00, 2.19082686e-11, 3.67966613e-15,\n",
       "          5.53828639e-15],\n",
       "         [1.00000000e+00, 6.01753578e-11, 5.28446253e-17,\n",
       "          6.32658040e-17],\n",
       "         ...,\n",
       "         [1.00000000e+00, 1.57460720e-12, 4.67630476e-28,\n",
       "          1.20783445e-27],\n",
       "         [1.00000000e+00, 5.82981233e-12, 1.67607131e-23,\n",
       "          1.22447771e-23],\n",
       "         [1.00000000e+00, 1.98387227e-08, 1.62662765e-12,\n",
       "          8.51739339e-12]],\n",
       "\n",
       "        [[9.99997616e-01, 2.43223235e-06, 6.00740124e-09,\n",
       "          7.76061437e-09],\n",
       "         [1.00000000e+00, 2.83210174e-12, 4.85035054e-17,\n",
       "          1.18291711e-16],\n",
       "         [1.00000000e+00, 4.12517373e-12, 9.48256832e-21,\n",
       "          8.64297273e-21],\n",
       "         ...,\n",
       "         [1.00000000e+00, 3.15594108e-14, 1.72108066e-32,\n",
       "          8.31638303e-33],\n",
       "         [1.00000000e+00, 2.44265493e-11, 2.70085925e-27,\n",
       "          9.62808433e-27],\n",
       "         [1.00000000e+00, 1.13361021e-09, 1.48836598e-14,\n",
       "          6.57122672e-14]],\n",
       "\n",
       "        ...,\n",
       "\n",
       "        [[9.99996543e-01, 3.45082162e-06, 1.41856470e-12,\n",
       "          2.12268874e-12],\n",
       "         [9.99999881e-01, 6.97940834e-08, 8.26605205e-20,\n",
       "          9.56288901e-20],\n",
       "         [1.00000000e+00, 2.38458120e-09, 1.30276237e-25,\n",
       "          5.85635113e-26],\n",
       "         ...,\n",
       "         [1.00000000e+00, 2.79707312e-12, 9.99942247e-17,\n",
       "          5.27208288e-16],\n",
       "         [1.00000000e+00, 3.09040987e-11, 1.23227124e-14,\n",
       "          3.45547599e-14],\n",
       "         [9.99999762e-01, 1.71585782e-07, 2.35956676e-08,\n",
       "          9.99111620e-08]],\n",
       "\n",
       "        [[9.99972224e-01, 2.77375202e-05, 3.41231793e-10,\n",
       "          5.38763423e-10],\n",
       "         [1.00000000e+00, 1.48435042e-08, 2.69615055e-15,\n",
       "          4.64885563e-15],\n",
       "         [1.00000000e+00, 5.35068864e-11, 1.30774554e-19,\n",
       "          4.60157886e-19],\n",
       "         ...,\n",
       "         [1.00000000e+00, 5.69883474e-10, 1.64739004e-13,\n",
       "          1.49830799e-12],\n",
       "         [1.00000000e+00, 4.90035901e-10, 3.79580395e-12,\n",
       "          1.44559469e-11],\n",
       "         [9.99997139e-01, 8.26265591e-07, 3.20193323e-07,\n",
       "          1.65618439e-06]],\n",
       "\n",
       "        [[9.99621272e-01, 3.70342517e-04, 3.03433876e-06,\n",
       "          5.31691057e-06],\n",
       "         [9.99995947e-01, 4.10769599e-06, 2.01407868e-09,\n",
       "          5.44744871e-09],\n",
       "         [9.99999881e-01, 1.31697860e-07, 1.20143817e-11,\n",
       "          2.81878618e-11],\n",
       "         ...,\n",
       "         [9.99997497e-01, 2.09258405e-06, 5.07254789e-08,\n",
       "          3.12172716e-07],\n",
       "         [9.99998927e-01, 4.26906240e-07, 1.36668049e-07,\n",
       "          4.86746842e-07],\n",
       "         [9.99560654e-01, 9.50854737e-05, 8.50192519e-05,\n",
       "          2.59166409e-04]]],\n",
       "\n",
       "\n",
       "       [[[9.99751508e-01, 1.65434598e-04, 5.17326953e-05,\n",
       "          3.13970122e-05],\n",
       "         [9.99957919e-01, 4.20243632e-05, 3.58189944e-09,\n",
       "          1.40767442e-09],\n",
       "         [9.99959111e-01, 4.09360582e-05, 9.17052961e-11,\n",
       "          3.39847525e-11],\n",
       "         ...,\n",
       "         [9.99998927e-01, 1.05056836e-06, 2.18885159e-16,\n",
       "          8.83068045e-17],\n",
       "         [9.99957681e-01, 4.23006677e-05, 1.87059247e-14,\n",
       "          3.51806558e-15],\n",
       "         [9.99610484e-01, 3.89489287e-04, 4.53741258e-08,\n",
       "          2.76612031e-08]],\n",
       "\n",
       "        [[9.99998927e-01, 8.35131857e-07, 6.85360462e-08,\n",
       "          1.12678308e-07],\n",
       "         [1.00000000e+00, 2.21306497e-11, 3.75450318e-15,\n",
       "          5.65262779e-15],\n",
       "         [1.00000000e+00, 6.05962155e-11, 5.40773759e-17,\n",
       "          6.47507918e-17],\n",
       "         ...,\n",
       "         [1.00000000e+00, 1.56221943e-12, 4.54006110e-28,\n",
       "          1.17400501e-27],\n",
       "         [1.00000000e+00, 5.79029489e-12, 1.63937618e-23,\n",
       "          1.19747768e-23],\n",
       "         [1.00000000e+00, 1.97275227e-08, 1.60849578e-12,\n",
       "          8.42634035e-12]],\n",
       "\n",
       "        [[9.99997497e-01, 2.44873786e-06, 6.07902573e-09,\n",
       "          7.85451970e-09],\n",
       "         [1.00000000e+00, 2.86796802e-12, 4.97416955e-17,\n",
       "          1.21348931e-16],\n",
       "         [1.00000000e+00, 4.16217711e-12, 9.85899528e-21,\n",
       "          8.99697776e-21],\n",
       "         ...,\n",
       "         [1.00000000e+00, 3.13316810e-14, 1.66308382e-32,\n",
       "          8.02884388e-33],\n",
       "         [1.00000000e+00, 2.43659658e-11, 2.63523608e-27,\n",
       "          9.39870145e-27],\n",
       "         [1.00000000e+00, 1.12842202e-09, 1.47043412e-14,\n",
       "          6.49229138e-14]],\n",
       "\n",
       "        ...,\n",
       "\n",
       "        [[9.99996543e-01, 3.46622460e-06, 1.43591877e-12,\n",
       "          2.14798079e-12],\n",
       "         [9.99999881e-01, 6.99984568e-08, 8.41665127e-20,\n",
       "          9.73860092e-20],\n",
       "         [1.00000000e+00, 2.39058329e-09, 1.33582563e-25,\n",
       "          6.00722633e-26],\n",
       "         ...,\n",
       "         [1.00000000e+00, 2.81673209e-12, 1.02376836e-16,\n",
       "          5.38708931e-16],\n",
       "         [1.00000000e+00, 3.12041573e-11, 1.25465968e-14,\n",
       "          3.51751844e-14],\n",
       "         [9.99999762e-01, 1.72826688e-07, 2.38132287e-08,\n",
       "          1.00792384e-07]],\n",
       "\n",
       "        [[9.99972105e-01, 2.78553744e-05, 3.44566597e-10,\n",
       "          5.44445933e-10],\n",
       "         [1.00000000e+00, 1.48976227e-08, 2.73300453e-15,\n",
       "          4.70990299e-15],\n",
       "         [1.00000000e+00, 5.37380279e-11, 1.33157131e-19,\n",
       "          4.68494988e-19],\n",
       "         ...,\n",
       "         [1.00000000e+00, 5.70615444e-10, 1.67689200e-13,\n",
       "          1.52280315e-12],\n",
       "         [1.00000000e+00, 4.93425412e-10, 3.84351578e-12,\n",
       "          1.46305919e-11],\n",
       "         [9.99997139e-01, 8.30366162e-07, 3.22354595e-07,\n",
       "          1.66697555e-06]],\n",
       "\n",
       "        [[9.99620199e-01, 3.71373433e-04, 3.05276376e-06,\n",
       "          5.34721676e-06],\n",
       "         [9.99995947e-01, 4.10955727e-06, 2.03024308e-09,\n",
       "          5.49334800e-09],\n",
       "         [9.99999881e-01, 1.32060208e-07, 1.21443931e-11,\n",
       "          2.84992516e-11],\n",
       "         ...,\n",
       "         [9.99997497e-01, 2.09485211e-06, 5.10506339e-08,\n",
       "          3.13706664e-07],\n",
       "         [9.99998927e-01, 4.28236376e-07, 1.37500805e-07,\n",
       "          4.89674505e-07],\n",
       "         [9.99559343e-01, 9.53187700e-05, 8.52885132e-05,\n",
       "          2.59960681e-04]]]], dtype=float32)"
      ]
     },
     "execution_count": 31,
     "metadata": {},
     "output_type": "execute_result"
    }
   ],
   "source": [
    "prediction"
   ]
  },
  {
   "cell_type": "code",
   "execution_count": 32,
   "metadata": {},
   "outputs": [],
   "source": [
    "prediction_ = []\n",
    "for i in prediction:\n",
    "    prediction_.append(np.round(i))"
   ]
  },
  {
   "cell_type": "code",
   "execution_count": 40,
   "metadata": {},
   "outputs": [
    {
     "ename": "AttributeError",
     "evalue": "'list' object has no attribute 'shape'",
     "output_type": "error",
     "traceback": [
      "\u001b[1;31m---------------------------------------------------------------------------\u001b[0m",
      "\u001b[1;31mAttributeError\u001b[0m                            Traceback (most recent call last)",
      "\u001b[1;32m<ipython-input-40-fc1f6b9e0294>\u001b[0m in \u001b[0;36m<module>\u001b[1;34m\u001b[0m\n\u001b[1;32m----> 1\u001b[1;33m \u001b[0mprediction_\u001b[0m\u001b[1;33m.\u001b[0m\u001b[0mshape\u001b[0m\u001b[1;33m\u001b[0m\u001b[1;33m\u001b[0m\u001b[0m\n\u001b[0m",
      "\u001b[1;31mAttributeError\u001b[0m: 'list' object has no attribute 'shape'"
     ]
    }
   ],
   "source": [
    "prediction_.shape"
   ]
  },
  {
   "cell_type": "code",
   "execution_count": 41,
   "metadata": {},
   "outputs": [
    {
     "data": {
      "text/plain": [
       "(544, 256, 256, 4)"
      ]
     },
     "execution_count": 41,
     "metadata": {},
     "output_type": "execute_result"
    }
   ],
   "source": [
    "test_labels.shape"
   ]
  },
  {
   "cell_type": "code",
   "execution_count": 43,
   "metadata": {},
   "outputs": [
    {
     "ename": "ValueError",
     "evalue": "Found array with dim 4. Estimator expected <= 2.",
     "output_type": "error",
     "traceback": [
      "\u001b[1;31m---------------------------------------------------------------------------\u001b[0m",
      "\u001b[1;31mValueError\u001b[0m                                Traceback (most recent call last)",
      "\u001b[1;32m<ipython-input-43-51dace4e14c2>\u001b[0m in \u001b[0;36m<module>\u001b[1;34m\u001b[0m\n\u001b[0;32m      1\u001b[0m \u001b[1;32mfrom\u001b[0m \u001b[0msklearn\u001b[0m\u001b[1;33m.\u001b[0m\u001b[0mmetrics\u001b[0m \u001b[1;32mimport\u001b[0m \u001b[0mmean_squared_error\u001b[0m\u001b[1;33m\u001b[0m\u001b[1;33m\u001b[0m\u001b[0m\n\u001b[1;32m----> 2\u001b[1;33m \u001b[0mmse\u001b[0m \u001b[1;33m=\u001b[0m \u001b[0mmean_squared_error\u001b[0m\u001b[1;33m(\u001b[0m\u001b[0mtest_labels\u001b[0m\u001b[1;33m,\u001b[0m\u001b[0mprediction_\u001b[0m\u001b[1;33m)\u001b[0m\u001b[1;33m\u001b[0m\u001b[1;33m\u001b[0m\u001b[0m\n\u001b[0m",
      "\u001b[1;32m~\\.conda\\envs\\tejeshvini_demo2\\lib\\site-packages\\sklearn\\utils\\validation.py\u001b[0m in \u001b[0;36minner_f\u001b[1;34m(*args, **kwargs)\u001b[0m\n\u001b[0;32m     70\u001b[0m                           FutureWarning)\n\u001b[0;32m     71\u001b[0m         \u001b[0mkwargs\u001b[0m\u001b[1;33m.\u001b[0m\u001b[0mupdate\u001b[0m\u001b[1;33m(\u001b[0m\u001b[1;33m{\u001b[0m\u001b[0mk\u001b[0m\u001b[1;33m:\u001b[0m \u001b[0marg\u001b[0m \u001b[1;32mfor\u001b[0m \u001b[0mk\u001b[0m\u001b[1;33m,\u001b[0m \u001b[0marg\u001b[0m \u001b[1;32min\u001b[0m \u001b[0mzip\u001b[0m\u001b[1;33m(\u001b[0m\u001b[0msig\u001b[0m\u001b[1;33m.\u001b[0m\u001b[0mparameters\u001b[0m\u001b[1;33m,\u001b[0m \u001b[0margs\u001b[0m\u001b[1;33m)\u001b[0m\u001b[1;33m}\u001b[0m\u001b[1;33m)\u001b[0m\u001b[1;33m\u001b[0m\u001b[1;33m\u001b[0m\u001b[0m\n\u001b[1;32m---> 72\u001b[1;33m         \u001b[1;32mreturn\u001b[0m \u001b[0mf\u001b[0m\u001b[1;33m(\u001b[0m\u001b[1;33m**\u001b[0m\u001b[0mkwargs\u001b[0m\u001b[1;33m)\u001b[0m\u001b[1;33m\u001b[0m\u001b[1;33m\u001b[0m\u001b[0m\n\u001b[0m\u001b[0;32m     73\u001b[0m     \u001b[1;32mreturn\u001b[0m \u001b[0minner_f\u001b[0m\u001b[1;33m\u001b[0m\u001b[1;33m\u001b[0m\u001b[0m\n\u001b[0;32m     74\u001b[0m \u001b[1;33m\u001b[0m\u001b[0m\n",
      "\u001b[1;32m~\\.conda\\envs\\tejeshvini_demo2\\lib\\site-packages\\sklearn\\metrics\\_regression.py\u001b[0m in \u001b[0;36mmean_squared_error\u001b[1;34m(y_true, y_pred, sample_weight, multioutput, squared)\u001b[0m\n\u001b[0;32m    254\u001b[0m     \"\"\"\n\u001b[0;32m    255\u001b[0m     y_type, y_true, y_pred, multioutput = _check_reg_targets(\n\u001b[1;32m--> 256\u001b[1;33m         y_true, y_pred, multioutput)\n\u001b[0m\u001b[0;32m    257\u001b[0m     \u001b[0mcheck_consistent_length\u001b[0m\u001b[1;33m(\u001b[0m\u001b[0my_true\u001b[0m\u001b[1;33m,\u001b[0m \u001b[0my_pred\u001b[0m\u001b[1;33m,\u001b[0m \u001b[0msample_weight\u001b[0m\u001b[1;33m)\u001b[0m\u001b[1;33m\u001b[0m\u001b[1;33m\u001b[0m\u001b[0m\n\u001b[0;32m    258\u001b[0m     output_errors = np.average((y_true - y_pred) ** 2, axis=0,\n",
      "\u001b[1;32m~\\.conda\\envs\\tejeshvini_demo2\\lib\\site-packages\\sklearn\\metrics\\_regression.py\u001b[0m in \u001b[0;36m_check_reg_targets\u001b[1;34m(y_true, y_pred, multioutput, dtype)\u001b[0m\n\u001b[0;32m     83\u001b[0m     \"\"\"\n\u001b[0;32m     84\u001b[0m     \u001b[0mcheck_consistent_length\u001b[0m\u001b[1;33m(\u001b[0m\u001b[0my_true\u001b[0m\u001b[1;33m,\u001b[0m \u001b[0my_pred\u001b[0m\u001b[1;33m)\u001b[0m\u001b[1;33m\u001b[0m\u001b[1;33m\u001b[0m\u001b[0m\n\u001b[1;32m---> 85\u001b[1;33m     \u001b[0my_true\u001b[0m \u001b[1;33m=\u001b[0m \u001b[0mcheck_array\u001b[0m\u001b[1;33m(\u001b[0m\u001b[0my_true\u001b[0m\u001b[1;33m,\u001b[0m \u001b[0mensure_2d\u001b[0m\u001b[1;33m=\u001b[0m\u001b[1;32mFalse\u001b[0m\u001b[1;33m,\u001b[0m \u001b[0mdtype\u001b[0m\u001b[1;33m=\u001b[0m\u001b[0mdtype\u001b[0m\u001b[1;33m)\u001b[0m\u001b[1;33m\u001b[0m\u001b[1;33m\u001b[0m\u001b[0m\n\u001b[0m\u001b[0;32m     86\u001b[0m     \u001b[0my_pred\u001b[0m \u001b[1;33m=\u001b[0m \u001b[0mcheck_array\u001b[0m\u001b[1;33m(\u001b[0m\u001b[0my_pred\u001b[0m\u001b[1;33m,\u001b[0m \u001b[0mensure_2d\u001b[0m\u001b[1;33m=\u001b[0m\u001b[1;32mFalse\u001b[0m\u001b[1;33m,\u001b[0m \u001b[0mdtype\u001b[0m\u001b[1;33m=\u001b[0m\u001b[0mdtype\u001b[0m\u001b[1;33m)\u001b[0m\u001b[1;33m\u001b[0m\u001b[1;33m\u001b[0m\u001b[0m\n\u001b[0;32m     87\u001b[0m \u001b[1;33m\u001b[0m\u001b[0m\n",
      "\u001b[1;32m~\\.conda\\envs\\tejeshvini_demo2\\lib\\site-packages\\sklearn\\utils\\validation.py\u001b[0m in \u001b[0;36minner_f\u001b[1;34m(*args, **kwargs)\u001b[0m\n\u001b[0;32m     70\u001b[0m                           FutureWarning)\n\u001b[0;32m     71\u001b[0m         \u001b[0mkwargs\u001b[0m\u001b[1;33m.\u001b[0m\u001b[0mupdate\u001b[0m\u001b[1;33m(\u001b[0m\u001b[1;33m{\u001b[0m\u001b[0mk\u001b[0m\u001b[1;33m:\u001b[0m \u001b[0marg\u001b[0m \u001b[1;32mfor\u001b[0m \u001b[0mk\u001b[0m\u001b[1;33m,\u001b[0m \u001b[0marg\u001b[0m \u001b[1;32min\u001b[0m \u001b[0mzip\u001b[0m\u001b[1;33m(\u001b[0m\u001b[0msig\u001b[0m\u001b[1;33m.\u001b[0m\u001b[0mparameters\u001b[0m\u001b[1;33m,\u001b[0m \u001b[0margs\u001b[0m\u001b[1;33m)\u001b[0m\u001b[1;33m}\u001b[0m\u001b[1;33m)\u001b[0m\u001b[1;33m\u001b[0m\u001b[1;33m\u001b[0m\u001b[0m\n\u001b[1;32m---> 72\u001b[1;33m         \u001b[1;32mreturn\u001b[0m \u001b[0mf\u001b[0m\u001b[1;33m(\u001b[0m\u001b[1;33m**\u001b[0m\u001b[0mkwargs\u001b[0m\u001b[1;33m)\u001b[0m\u001b[1;33m\u001b[0m\u001b[1;33m\u001b[0m\u001b[0m\n\u001b[0m\u001b[0;32m     73\u001b[0m     \u001b[1;32mreturn\u001b[0m \u001b[0minner_f\u001b[0m\u001b[1;33m\u001b[0m\u001b[1;33m\u001b[0m\u001b[0m\n\u001b[0;32m     74\u001b[0m \u001b[1;33m\u001b[0m\u001b[0m\n",
      "\u001b[1;32m~\\.conda\\envs\\tejeshvini_demo2\\lib\\site-packages\\sklearn\\utils\\validation.py\u001b[0m in \u001b[0;36mcheck_array\u001b[1;34m(array, accept_sparse, accept_large_sparse, dtype, order, copy, force_all_finite, ensure_2d, allow_nd, ensure_min_samples, ensure_min_features, estimator)\u001b[0m\n\u001b[0;32m    639\u001b[0m         \u001b[1;32mif\u001b[0m \u001b[1;32mnot\u001b[0m \u001b[0mallow_nd\u001b[0m \u001b[1;32mand\u001b[0m \u001b[0marray\u001b[0m\u001b[1;33m.\u001b[0m\u001b[0mndim\u001b[0m \u001b[1;33m>=\u001b[0m \u001b[1;36m3\u001b[0m\u001b[1;33m:\u001b[0m\u001b[1;33m\u001b[0m\u001b[1;33m\u001b[0m\u001b[0m\n\u001b[0;32m    640\u001b[0m             raise ValueError(\"Found array with dim %d. %s expected <= 2.\"\n\u001b[1;32m--> 641\u001b[1;33m                              % (array.ndim, estimator_name))\n\u001b[0m\u001b[0;32m    642\u001b[0m \u001b[1;33m\u001b[0m\u001b[0m\n\u001b[0;32m    643\u001b[0m         \u001b[1;32mif\u001b[0m \u001b[0mforce_all_finite\u001b[0m\u001b[1;33m:\u001b[0m\u001b[1;33m\u001b[0m\u001b[1;33m\u001b[0m\u001b[0m\n",
      "\u001b[1;31mValueError\u001b[0m: Found array with dim 4. Estimator expected <= 2."
     ]
    }
   ],
   "source": [
    "from sklearn.metrics import mean_squared_error\n",
    "mse = mean_squared_error(test_labels,prediction_)"
   ]
  },
  {
   "cell_type": "code",
   "execution_count": 36,
   "metadata": {},
   "outputs": [
    {
     "data": {
      "text/plain": [
       "<matplotlib.image.AxesImage at 0x238c0d22108>"
      ]
     },
     "execution_count": 36,
     "metadata": {},
     "output_type": "execute_result"
    },
    {
     "data": {
      "image/png": "[encoded data removed]",
      "text/plain": [
       "<Figure size 432x288 with 1 Axes>"
      ]
     },
     "metadata": {
      "needs_background": "light"
     },
     "output_type": "display_data"
    }
   ],
   "source": [
    "plt.imshow(test_labels[2][:,:,1])"
   ]
  },
  {
   "cell_type": "code",
   "execution_count": 4,
   "metadata": {},
   "outputs": [
    {
     "ename": "NameError",
     "evalue": "name 'prediction_' is not defined",
     "output_type": "error",
     "traceback": [
      "\u001b[1;31m---------------------------------------------------------------------------\u001b[0m",
      "\u001b[1;31mNameError\u001b[0m                                 Traceback (most recent call last)",
      "\u001b[1;32m<ipython-input-4-4252a3afab49>\u001b[0m in \u001b[0;36m<module>\u001b[1;34m\u001b[0m\n\u001b[1;32m----> 1\u001b[1;33m \u001b[0mplt\u001b[0m\u001b[1;33m.\u001b[0m\u001b[0mimshow\u001b[0m\u001b[1;33m(\u001b[0m\u001b[0mprediction_\u001b[0m\u001b[1;33m[\u001b[0m\u001b[1;36m2\u001b[0m\u001b[1;33m]\u001b[0m\u001b[1;33m[\u001b[0m\u001b[1;33m:\u001b[0m\u001b[1;33m,\u001b[0m\u001b[1;33m:\u001b[0m\u001b[1;33m,\u001b[0m\u001b[1;36m0\u001b[0m\u001b[1;33m]\u001b[0m\u001b[1;33m)\u001b[0m\u001b[1;33m\u001b[0m\u001b[1;33m\u001b[0m\u001b[0m\n\u001b[0m",
      "\u001b[1;31mNameError\u001b[0m: name 'prediction_' is not defined"
     ]
    }
   ],
   "source": [
    "plt.imshow(prediction_[2][:,:,0])"
   ]
  },
  {
   "cell_type": "code",
   "execution_count": 47,
   "metadata": {},
   "outputs": [],
   "source": [
    "from tensorflow.keras import backend as K\n",
    "def dice_coef(y_true, y_pred, smooth=1):\n",
    "    \n",
    "    intersection = K.sum(y_true * y_pred, axis=[1,2,3])\n",
    "    union = K.sum(y_true, axis=[1,2,3]) + K.sum(y_pred, axis=[1,2,3])\n",
    "    dice = K.mean((2. * intersection + smooth)/(union + smooth), axis=0)\n",
    "    return dice"
   ]
  },
  {
   "cell_type": "code",
   "execution_count": 49,
   "metadata": {},
   "outputs": [],
   "source": [
    "dice_ = dice_coef(test_labels, prediction_, smooth=1)"
   ]
  },
  {
   "cell_type": "code",
   "execution_count": 50,
   "metadata": {},
   "outputs": [
    {
     "data": {
      "text/plain": [
       "<tf.Tensor: shape=(), dtype=float32, numpy=0.9940109>"
      ]
     },
     "execution_count": 50,
     "metadata": {},
     "output_type": "execute_result"
    }
   ],
   "source": [
    "dice_"
   ]
  },
  {
   "cell_type": "code",
   "execution_count": null,
   "metadata": {},
   "outputs": [],
   "source": []
  }
 ],
 "metadata": {
  "kernelspec": {
   "display_name": "Python 3",
   "language": "python",
   "name": "python3"
  },
  "language_info": {
   "codemirror_mode": {
    "name": "ipython",
    "version": 3
   },
   "file_extension": ".py",
   "mimetype": "text/x-python",
   "name": "python",
   "nbconvert_exporter": "python",
   "pygments_lexer": "ipython3",
   "version": "3.7.9"
  }
 },
 "nbformat": 4,
 "nbformat_minor": 4
}
